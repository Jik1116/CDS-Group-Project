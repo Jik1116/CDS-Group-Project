{
 "cells": [
  {
   "cell_type": "code",
   "execution_count": 1,
   "metadata": {},
   "outputs": [],
   "source": [
    "import pandas as pd\n",
    "import os\n",
    "\n",
    "musiccaps = pd.read_csv(\"musiccaps-public.csv\")"
   ]
  },
  {
   "cell_type": "code",
   "execution_count": 2,
   "metadata": {},
   "outputs": [
    {
     "data": {
      "text/plain": [
       "0       The low quality recording features a ballad so...\n",
       "1       This song features an electric guitar as the m...\n",
       "2       a male voice is singing a melody with changing...\n",
       "3       This song contains digital drums playing a sim...\n",
       "4       This song features a rubber instrument being p...\n",
       "                              ...                        \n",
       "5516    This audio contains someone playing a wooden b...\n",
       "5517    The song is an instrumental. The song is mediu...\n",
       "5518    The rock music is purely instrumental and feat...\n",
       "5519    The song is an instrumental. The song is slow ...\n",
       "5520    This is a glitch music piece. There is a synth...\n",
       "Name: caption, Length: 5521, dtype: object"
      ]
     },
     "execution_count": 2,
     "metadata": {},
     "output_type": "execute_result"
    }
   ],
   "source": [
    "musiccaps[\"caption\"]"
   ]
  },
  {
   "cell_type": "code",
   "execution_count": null,
   "metadata": {},
   "outputs": [],
   "source": [
    "from diffusers import StableDiffusionPipeline, EulerDiscreteScheduler\n",
    "from PIL import Image\n",
    "import torch\n",
    "import os\n",
    "\n",
    "model_id = \"stabilityai/stable-diffusion-2\" \n",
    "\n",
    "# Use the Euler scheduler here instead\n",
    "scheduler = EulerDiscreteScheduler.from_pretrained(model_id, subfolder=\"scheduler\")\n",
    "pipe = StableDiffusionPipeline.from_pretrained(model_id, scheduler=scheduler, torch_dtype=torch.float16)\n",
    "pipe = pipe.to(\"cuda\")\n",
    "\n",
    "\n",
    "for i, row in musiccaps.iterrows():\n",
    "  prompt = row['caption']\n",
    "  image = pipe(prompt).images[0]\n",
    "\n",
    "  image.save(os.path.join(\"C:\\\\Users\\\\Reynard simano\\\\Downloads\\\\stable-diffusion-2\\\\image\", f\"generated_image_{i}.png\"))"
   ]
  }
 ],
 "metadata": {
  "kernelspec": {
   "display_name": "Python 3",
   "language": "python",
   "name": "python3"
  },
  "language_info": {
   "codemirror_mode": {
    "name": "ipython",
    "version": 3
   },
   "file_extension": ".py",
   "mimetype": "text/x-python",
   "name": "python",
   "nbconvert_exporter": "python",
   "pygments_lexer": "ipython3",
   "version": "3.11.4"
  }
 },
 "nbformat": 4,
 "nbformat_minor": 2
}
